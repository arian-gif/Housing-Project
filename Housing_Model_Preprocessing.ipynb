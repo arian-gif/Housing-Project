{
  "nbformat": 4,
  "nbformat_minor": 0,
  "metadata": {
    "colab": {
      "provenance": [],
      "mount_file_id": "1ahdKjsTuApvFpJB0_RUzPZ4jMPOmcmbc",
      "authorship_tag": "ABX9TyNkUIgxZyWPZRIZVeAohmCE",
      "include_colab_link": true
    },
    "kernelspec": {
      "name": "python3",
      "display_name": "Python 3"
    },
    "language_info": {
      "name": "python"
    }
  },
  "cells": [
    {
      "cell_type": "markdown",
      "metadata": {
        "id": "view-in-github",
        "colab_type": "text"
      },
      "source": [
        "<a href=\"https://colab.research.google.com/github/arian-gif/Housing-Project/blob/main/Housing_Model_Preprocessing.ipynb\" target=\"_parent\"><img src=\"https://colab.research.google.com/assets/colab-badge.svg\" alt=\"Open In Colab\"/></a>"
      ]
    },
    {
      "cell_type": "markdown",
      "source": [
        "Data Preprocessing\n"
      ],
      "metadata": {
        "id": "dFCOvbGjAKJH"
      }
    },
    {
      "cell_type": "markdown",
      "source": [
        "Importing Libraries"
      ],
      "metadata": {
        "id": "3R9sm2b4A3XH"
      }
    },
    {
      "cell_type": "code",
      "execution_count": null,
      "metadata": {
        "id": "wgL3LMu4_jTu"
      },
      "outputs": [],
      "source": [
        "import numpy as np\n",
        "import matplotlib.pyplot as plt\n",
        "import pandas as pd"
      ]
    },
    {
      "cell_type": "markdown",
      "source": [
        "Importing Data"
      ],
      "metadata": {
        "id": "YO3NKlCaA_Jz"
      }
    },
    {
      "cell_type": "code",
      "source": [
        "dataset = pd.read_csv('Housing.csv')\n",
        "X = dataset.iloc[:, 1:].values\n",
        "y = dataset.iloc[:, 0].values\n",
        "\n",
        "print(pd.DataFrame(X))"
      ],
      "metadata": {
        "colab": {
          "base_uri": "https://localhost:8080/"
        },
        "id": "UgKMPcuzA9os",
        "outputId": "9681c233-1611-4c04-e443-bceae5ef652e"
      },
      "execution_count": null,
      "outputs": [
        {
          "output_type": "stream",
          "name": "stdout",
          "text": [
            "       0  1  2  3    4    5    6   7    8  9    10              11\n",
            "0    7420  4  2  3  yes   no   no  no  yes  2  yes       furnished\n",
            "1    8960  4  4  4  yes   no   no  no  yes  3   no       furnished\n",
            "2    9960  3  2  2  yes   no  yes  no   no  2  yes  semi-furnished\n",
            "3    7500  4  2  2  yes   no  yes  no  yes  3  yes       furnished\n",
            "4    7420  4  1  2  yes  yes  yes  no  yes  2   no       furnished\n",
            "..    ... .. .. ..  ...  ...  ...  ..  ... ..  ...             ...\n",
            "540  3000  2  1  1  yes   no  yes  no   no  2   no     unfurnished\n",
            "541  2400  3  1  1   no   no   no  no   no  0   no  semi-furnished\n",
            "542  3620  2  1  1  yes   no   no  no   no  0   no     unfurnished\n",
            "543  2910  3  1  1   no   no   no  no   no  0   no       furnished\n",
            "544  3850  3  1  2  yes   no   no  no   no  0   no     unfurnished\n",
            "\n",
            "[545 rows x 12 columns]\n"
          ]
        }
      ]
    },
    {
      "cell_type": "markdown",
      "source": [
        "Encoding categorical Data\n"
      ],
      "metadata": {
        "id": "VeHStbaWCcP9"
      }
    },
    {
      "cell_type": "code",
      "source": [
        "columns_to_encode = [4,5,6,7,8,10,11]\n",
        "from sklearn.compose import ColumnTransformer\n",
        "from sklearn.preprocessing import OneHotEncoder\n",
        "ct = ColumnTransformer(\n",
        "    transformers=[('onehot', OneHotEncoder(), columns_to_encode)],\n",
        "    remainder='passthrough'\n",
        ")\n",
        "X = ct.fit_transform(X)"
      ],
      "metadata": {
        "id": "eZm6lU4KCjCE"
      },
      "execution_count": null,
      "outputs": []
    },
    {
      "cell_type": "markdown",
      "source": [
        "Training and Test Set Split"
      ],
      "metadata": {
        "id": "pP7Bl6IJdEqT"
      }
    },
    {
      "cell_type": "code",
      "source": [
        "from sklearn.model_selection import train_test_split\n",
        "X_train, X_test, y_train, y_test = train_test_split(X, y, test_size = 0.2, random_state = 1)"
      ],
      "metadata": {
        "id": "Plq329aWdNFc"
      },
      "execution_count": null,
      "outputs": []
    }
  ]
}